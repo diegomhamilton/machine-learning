{
 "cells": [
  {
   "cell_type": "markdown",
   "metadata": {},
   "source": [
    "# Solução da Lista 2 de Aprendizagem de Máquina\n",
    "## Aluno: Diego Maia Hamilton"
   ]
  },
  {
   "cell_type": "markdown",
   "metadata": {},
   "source": [
    "#### 1)  Utilizando  a  base  de  dados  Iris,  disponível  no  link  abaixo,  sem  préprocessamento  e  a  linguagem  de  programação  de  sua  preferência,  implemente  e  avalie  o  desempenho  dos  os  seguintes classificadores:\n",
    "<br />\n",
    "OBS: Algoritmo de treinamento: Stochastic gradient descent"
   ]
  },
  {
   "cell_type": "markdown",
   "metadata": {},
   "source": [
    "a) Perceptron (4 entradas e 3 saídas, função de ativação tipo sigmóide)"
   ]
  },
  {
   "cell_type": "code",
   "execution_count": null,
   "metadata": {},
   "outputs": [],
   "source": []
  },
  {
   "cell_type": "markdown",
   "metadata": {},
   "source": [
    "b) Perceptron (4 entradas e 3 saídas, função de ativação tipo ReLu)"
   ]
  },
  {
   "cell_type": "code",
   "execution_count": null,
   "metadata": {},
   "outputs": [],
   "source": []
  },
  {
   "cell_type": "markdown",
   "metadata": {},
   "source": [
    "c) MLP (4 entradas, 10 nodos na camada intermediária e 3 na camada de saída, função de ativação tipo sigmóide)"
   ]
  },
  {
   "cell_type": "code",
   "execution_count": null,
   "metadata": {},
   "outputs": [],
   "source": []
  },
  {
   "cell_type": "markdown",
   "metadata": {},
   "source": [
    "\n",
    "d) MLP (4 entradas, 10 nodos na camada intermediária e 3 na camada de saída, função de ativação tipo ReLu)"
   ]
  },
  {
   "cell_type": "code",
   "execution_count": null,
   "metadata": {},
   "outputs": [],
   "source": []
  },
  {
   "cell_type": "markdown",
   "metadata": {},
   "source": [
    "#### 2) Repita as avaliações anteriores removendo o valor médio da base de dados Iris e normalizando os dados pelo desvio padrão de cada característica."
   ]
  },
  {
   "cell_type": "code",
   "execution_count": null,
   "metadata": {},
   "outputs": [],
   "source": []
  },
  {
   "cell_type": "markdown",
   "metadata": {},
   "source": [
    "#### 3) Implemente o algoritmo de Kohonen com um mapa de 4x4 nodos, realize uma categorização sobre conjunto de dados Iris e plote o mapa atribuindo uma cor para cada nodo para cada categoria."
   ]
  },
  {
   "cell_type": "code",
   "execution_count": null,
   "metadata": {},
   "outputs": [],
   "source": []
  },
  {
   "cell_type": "markdown",
   "metadata": {},
   "source": [
    "#### 4) Implemente uma rede RBF com bases centradas nos nodos do SOM da questão anterior e avalie o desempenho de classificação o dataset do Iris."
   ]
  },
  {
   "cell_type": "code",
   "execution_count": null,
   "metadata": {},
   "outputs": [],
   "source": []
  },
  {
   "cell_type": "markdown",
   "metadata": {},
   "source": [
    "\n",
    "#### 5) Utilize um ADALINE para detectar a sequência binária 1101 em um canal com ruído gaussiano aditivo de 0.1; O dataset para treinamento e teste é:\n",
    "“010011011000111011100010011002002201110011003001100.500011001000011110001111”"
   ]
  },
  {
   "cell_type": "code",
   "execution_count": null,
   "metadata": {},
   "outputs": [],
   "source": []
  },
  {
   "cell_type": "markdown",
   "metadata": {},
   "source": [
    "#### 6) Utilize uma MLP com memória para realizar a mesma detecção anterior, avalie e compare com do ADALINE."
   ]
  },
  {
   "cell_type": "code",
   "execution_count": null,
   "metadata": {},
   "outputs": [],
   "source": []
  }
 ],
 "metadata": {
  "kernelspec": {
   "display_name": "Octave",
   "language": "octave",
   "name": "octave"
  },
  "language_info": {
   "file_extension": ".m",
   "help_links": [
    {
     "text": "GNU Octave",
     "url": "https://www.gnu.org/software/octave/support.html"
    },
    {
     "text": "Octave Kernel",
     "url": "https://github.com/Calysto/octave_kernel"
    },
    {
     "text": "MetaKernel Magics",
     "url": "https://github.com/calysto/metakernel/blob/master/metakernel/magics/README.md"
    }
   ],
   "mimetype": "text/x-octave",
   "name": "octave",
   "version": "4.2.2"
  }
 },
 "nbformat": 4,
 "nbformat_minor": 2
}
