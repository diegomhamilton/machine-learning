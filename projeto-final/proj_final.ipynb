{
 "cells": [
  {
   "cell_type": "code",
   "execution_count": 7,
   "metadata": {},
   "outputs": [],
   "source": [
    "import numpy as np\n",
    "import tensorflow as tf\n",
    "from sklearn.cluster import KMeans\n",
    "import matplotlib.pyplot as plt\n",
    "import yaml\n",
    "from timeit import default_timer as timer\n",
    "\n",
    "mnist = tf.keras.datasets.mnist"
   ]
  },
  {
   "cell_type": "code",
   "execution_count": 2,
   "metadata": {},
   "outputs": [],
   "source": [
    "# Load data from mnist into train set and test set\n",
    "(x_train, y_train),(x_test, y_test) = mnist.load_data()"
   ]
  },
  {
   "cell_type": "code",
   "execution_count": 3,
   "metadata": {},
   "outputs": [],
   "source": [
    "# Turn data into one dimensional array (for KMeans fitting)\n",
    "train_features = np.array([np.concatenate(i) for i in x_train])\n",
    "\n",
    "test_features = np.array([np.concatenate(i) for i in x_test])\n",
    "test_set = np.hstack((test_features, np.resize(y_test, (test_features.shape[0], 1))))\n",
    "\n",
    "# print(train_set[0])"
   ]
  },
  {
   "cell_type": "code",
   "execution_count": 4,
   "metadata": {
    "scrolled": true
   },
   "outputs": [],
   "source": [
    "n_clusters = len(set(y_train))\n",
    "classes = [[] for i in range(n_clusters)]\n",
    "for i in range(n_clusters):\n",
    "    classes[i] = train_features[np.where(y_train == i)]"
   ]
  },
  {
   "cell_type": "code",
   "execution_count": 5,
   "metadata": {},
   "outputs": [],
   "source": [
    "# test if classes are ok\n",
    "# plt.imshow(np.resize(classes[6][6],(28,28)))"
   ]
  },
  {
   "cell_type": "code",
   "execution_count": 19,
   "metadata": {},
   "outputs": [
    {
     "name": "stdout",
     "output_type": "stream",
     "text": [
      "Elapsed time: 453.44806557099946 seconds\n",
      "Elapsed time: 473.0130165349992 seconds\n",
      "Elapsed time: 501.4398306659996 seconds\n",
      "Elapsed time: 545.7143996859995 seconds\n",
      "Elapsed time: 546.1405777980008 seconds\n"
     ]
    }
   ],
   "source": [
    "\n",
    "# Creates clusters in each class, reducing number of points of data set\n",
    "for new_data_len in range(160, 210, 10):\n",
    "    start = timer()\n",
    "    clustering = []\n",
    "#     new_data_len = 40\n",
    "    for item in classes:\n",
    "        clustering.append(KMeans(n_clusters = new_data_len, random_state = 0).fit(item))\n",
    "    end = timer()\n",
    "    print(f'Elapsed time: {end - start} seconds')\n",
    "    with open(f'classes_{new_data_len}.yaml', 'w') as f:\n",
    "            yaml.dump(clustering, f)"
   ]
  },
  {
   "cell_type": "code",
   "execution_count": 7,
   "metadata": {},
   "outputs": [
    {
     "name": "stdout",
     "output_type": "stream",
     "text": [
      "CPU times: user 44min 46s, sys: 12min 33s, total: 57min 19s\n",
      "Wall time: 19min 5s\n"
     ]
    }
   ],
   "source": [
    "%%time\n",
    "# Creates clusters in each class, reducing number of points of data set\n",
    "for new_data_len in [500]:\n",
    "    clustering = []\n",
    "#     new_data_len = 40\n",
    "    for item in classes:\n",
    "        clustering.append(KMeans(n_clusters = new_data_len, random_state = 0).fit(item))\n",
    "\n",
    "    with open(f'classes_{new_data_len}.yaml', 'w') as f:\n",
    "            yaml.dump(clustering, f)"
   ]
  },
  {
   "cell_type": "code",
   "execution_count": 32,
   "metadata": {},
   "outputs": [],
   "source": [
    "# test if new classes are ok\n",
    "# plt.imshow(np.resize(new_x_train_set[99], (28,28)))"
   ]
  },
  {
   "cell_type": "code",
   "execution_count": 5,
   "metadata": {},
   "outputs": [],
   "source": [
    "def calc_disp_matrix(dataset):\n",
    "    x = dataset - calc_mean(dataset)\n",
    "    return np.dot(x.T, x)\n",
    "\n",
    "def calc_cov_matrix(dataset):\n",
    "    n = len(dataset)\n",
    "    return calc_disp_matrix(dataset)/(n-1)\n",
    "\n",
    "def calc_mean(dataset):\n",
    "    return np.mean(dataset, axis=0)\n",
    "\n",
    "def log_discriminant(sample, class_mean, class_cov, class_prob):\n",
    "    cov_inv = np.linalg.inv(class_cov)\n",
    "    g = -0.5*np.dot(np.dot((sample - class_mean), cov_inv), (sample - class_mean).T) - 0.5*np.log(np.linalg.det(class_cov)) + np.log(class_prob)\n",
    "    \n",
    "    return g\n",
    "\n",
    "def bayesian_classifier(training_set, sample):\n",
    "    data = training_set[:, 0:-1]\n",
    "    labels = training_set[:,-1]\n",
    "    print(data)\n",
    "    print(labels)\n",
    "    \n",
    "    classes = set([int(i) for i in labels])\n",
    "    set_size = len(data)\n",
    "    g = [[] for i in classes]\n",
    "    \n",
    "    for i in classes:\n",
    "        p_priori = len(data[np.where(labels == i)])/set_size\n",
    "        g[i] = log_discriminant(sample, calc_mean(data[np.where(labels == i)]), calc_cov_matrix(data[np.where(labels == i)]), p_priori)\n",
    "#         print(f'g[{i}] = {g[i]}')\n",
    "#         print(g[i])\n",
    "    \n",
    "    return np.argmax(np.array(g))\n",
    "\n",
    "def most_common(lst):\n",
    "    return max(set(lst), key=lst.count)\n",
    "\n",
    "def knn(dataset, sample, k):\n",
    "    #dataset: (attributes, class labels)\n",
    "    data = dataset[:, 0:-1]\n",
    "    labels = dataset[:, -1]\n",
    "    test_sample = np.array(sample)\n",
    "    \n",
    "    total_dist = data - test_sample                          # numpy automatically creates a repeated array of test_sample\n",
    "    norm = np.sum(total_dist*total_dist, axis=1)\n",
    "    neighbors = list(zip(norm, labels))                      # create list of tuples (square of distance, label of class)\n",
    "    neighbors = sorted(neighbors, key=lambda tup: tup[0])    # sort neighbors by distance\n",
    "    closest_n = [atribute[1] for atribute in neighbors[:k]]\n",
    "    return most_common(closest_n)\n",
    "\n",
    "def evaluate_error(classifier, training, test, extrArgs = []):\n",
    "    error_rate = 0\n",
    "    \n",
    "    for sample in test:\n",
    "        if classifier == knn:\n",
    "            n = classifier(training, sample[:-1], extrArgs[0])\n",
    "        else:\n",
    "            n = classifier(training, sample[:-1])\n",
    "        error_rate += not(n == sample[-1])\n",
    "        \n",
    "    return error_rate/len(test)\n",
    "\n",
    "def split_folds(dataset, k):\n",
    "    data_cpy = dataset.copy()\n",
    "    np.random.shuffle(data_cpy)            # desordena conjunto de dados\n",
    "    folds = np.split(data_cpy, k)          # divide os grupos\n",
    "    return folds\n",
    "\n",
    "def kfolds(classifier, dataset, k, extrArgs = []):\n",
    "    folds = split_folds(dataset, k)\n",
    "    error_array = []\n",
    "\n",
    "    for i, fold in enumerate(folds):\n",
    "        folds_cpy = folds.copy()           # cria cópia dos grupos\n",
    "        test = folds_cpy.pop(i)            # separa grupo i para teste\n",
    "        training = np.vstack(folds_cpy)    # agrupa demais grupos para treinamento\n",
    "        error_array = np.append(error_array, evaluate_error(classifier, training, test, extrArgs))\n",
    "    \n",
    "    return np.mean(error_array), np.std(error_array)"
   ]
  },
  {
   "cell_type": "code",
   "execution_count": 61,
   "metadata": {
    "scrolled": true
   },
   "outputs": [
    {
     "name": "stdout",
     "output_type": "stream",
     "text": [
      "K = 50\n",
      "\tk = 5, KNN error rate ([0.0679, 0.0601, 0.0566, 0.0523, 0.0523, 0.0495, 0.05, 0.0485, 0.0497, 0.0433, 0.0437, 0.0437, 0.0426, 0.0427, 0.0416], 0.01833030277982336)\n",
      "\n",
      "K = 60\n",
      "\tk = 5, KNN error rate ([0.0679, 0.0601, 0.0566, 0.0523, 0.0523, 0.0495, 0.05, 0.0485, 0.0497, 0.0433, 0.0437, 0.0437, 0.0426, 0.0427, 0.0416], 0.021343747458109495)\n",
      "\n",
      "K = 70\n",
      "\tk = 5, KNN error rate ([0.0679, 0.0601, 0.0566, 0.0523, 0.0523, 0.0495, 0.05, 0.0485, 0.0497, 0.0433, 0.0437, 0.0437, 0.0426, 0.0427, 0.0416], 0.014285714285714285)\n",
      "\n",
      "K = 80\n",
      "\tk = 5, KNN error rate ([0.0679, 0.0601, 0.0566, 0.0523, 0.0523, 0.0495, 0.05, 0.0485, 0.0497, 0.0433, 0.0437, 0.0437, 0.0426, 0.0427, 0.0416], 0.01375)\n",
      "\n",
      "K = 90\n",
      "\tk = 5, KNN error rate ([0.0679, 0.0601, 0.0566, 0.0523, 0.0523, 0.0495, 0.05, 0.0485, 0.0497, 0.0433, 0.0437, 0.0437, 0.0426, 0.0427, 0.0416], 0.01590869007030706)\n",
      "\n",
      "K = 100\n",
      "\tk = 5, KNN error rate ([0.0679, 0.0601, 0.0566, 0.0523, 0.0523, 0.0495, 0.05, 0.0485, 0.0497, 0.0433, 0.0437, 0.0437, 0.0426, 0.0427, 0.0416], 0.012649110640673518)\n",
      "\n",
      "K = 110\n",
      "\tk = 5, KNN error rate ([0.0679, 0.0601, 0.0566, 0.0523, 0.0523, 0.0495, 0.05, 0.0485, 0.0497, 0.0433, 0.0437, 0.0437, 0.0426, 0.0427, 0.0416], 0.012060453783110546)\n",
      "\n",
      "K = 120\n",
      "\tk = 5, KNN error rate ([0.0679, 0.0601, 0.0566, 0.0523, 0.0523, 0.0495, 0.05, 0.0485, 0.0497, 0.0433, 0.0437, 0.0437, 0.0426, 0.0427, 0.0416], 0.0135400640077266)\n",
      "\n",
      "K = 130\n",
      "\tk = 5, KNN error rate ([0.0679, 0.0601, 0.0566, 0.0523, 0.0523, 0.0495, 0.05, 0.0485, 0.0497, 0.0433, 0.0437, 0.0437, 0.0426, 0.0427, 0.0416], 0.016208698081311906)\n",
      "\n",
      "K = 140\n",
      "\tk = 5, KNN error rate ([0.0679, 0.0601, 0.0566, 0.0523, 0.0523, 0.0495, 0.05, 0.0485, 0.0497, 0.0433, 0.0437, 0.0437, 0.0426, 0.0427, 0.0416], 0.017335230142159423)\n",
      "\n",
      "K = 150\n",
      "\tk = 5, KNN error rate ([0.0679, 0.0601, 0.0566, 0.0523, 0.0523, 0.0495, 0.05, 0.0485, 0.0497, 0.0433, 0.0437, 0.0437, 0.0426, 0.0427, 0.0416], 0.011333333333333334)\n",
      "\n",
      "K = 160\n",
      "\tk = 5, KNN error rate ([0.0679, 0.0601, 0.0566, 0.0523, 0.0523, 0.0495, 0.05, 0.0485, 0.0497, 0.0433, 0.0437, 0.0437, 0.0426, 0.0427, 0.0416], 0.013169567191065924)\n",
      "\n",
      "K = 170\n",
      "\tk = 5, KNN error rate ([0.0679, 0.0601, 0.0566, 0.0523, 0.0523, 0.0495, 0.05, 0.0485, 0.0497, 0.0433, 0.0437, 0.0437, 0.0426, 0.0427, 0.0416], 0.011238219514436942)\n",
      "\n",
      "K = 180\n",
      "\tk = 5, KNN error rate ([0.0679, 0.0601, 0.0566, 0.0523, 0.0523, 0.0495, 0.05, 0.0485, 0.0497, 0.0433, 0.0437, 0.0437, 0.0426, 0.0427, 0.0416], 0.012729376930432888)\n",
      "\n",
      "K = 190\n",
      "\tk = 5, KNN error rate ([0.0679, 0.0601, 0.0566, 0.0523, 0.0523, 0.0495, 0.05, 0.0485, 0.0497, 0.0433, 0.0437, 0.0437, 0.0426, 0.0427, 0.0416], 0.013964735959391156)\n",
      "\n",
      "K = 200\n",
      "\tk = 5, KNN error rate ([0.0679, 0.0601, 0.0566, 0.0523, 0.0523, 0.0495, 0.05, 0.0485, 0.0497, 0.0433, 0.0437, 0.0437, 0.0426, 0.0427, 0.0416], 0.012806248474865696)\n",
      "\n",
      "CPU times: user 3min 17s, sys: 2.55 s, total: 3min 19s\n",
      "Wall time: 3min 20s\n"
     ]
    }
   ],
   "source": [
    "%%time\n",
    "kfolds_e = []\n",
    "\n",
    "for new_data_len in range(50, 210, 10):\n",
    "    print(f'K = {new_data_len}')\n",
    "    new_x_train_set = []\n",
    "    new_y_train_set = []\n",
    "    i = 0\n",
    "\n",
    "    with open(f'classes_{new_data_len}.yaml', 'r') as f:\n",
    "        clustering = yaml.load(f)\n",
    "\n",
    "    for c in clustering:\n",
    "        new_x_train_set.append(c.cluster_centers_)\n",
    "        new_y_train_set.append([i for x in range(len(c.cluster_centers_))])\n",
    "        i += 1\n",
    "#     plt.imshow(np.resize(new_x_train_set, (28, 28)))\n",
    "    new_x_train_set = np.concatenate(new_x_train_set)\n",
    "    new_y_train_set = np.concatenate(new_y_train_set)\n",
    "#     print(len(new_x_train_set))\n",
    "\n",
    "\n",
    "    training_set = np.hstack((new_x_train_set, np.resize(new_y_train_set, (new_x_train_set.shape[0], 1))))\n",
    "    # training_set = np.hstack((train_set, np.resize(y_train, (x_train.shape[0], 1))))\n",
    "    \n",
    "#     print(f'K={new_data_len}, {evaluate_error(knn, training_set, test_set, [5])}')\n",
    "#     print(f'K = {new_data_len}, k = 5, KNN error rate {kfolds(knn, training_set, 10, [5])}')\n",
    "#     for k in range(1,12):\n",
    "    k = 5\n",
    "    e, var = kfolds(knn, training_set, 10, [k])\n",
    "    print(f'\\tk = {k}, KNN error rate {(e, var)}')\n",
    "    kfolds_e.append(e)\n",
    "    print()"
   ]
  },
  {
   "cell_type": "code",
   "execution_count": 100,
   "metadata": {
    "scrolled": true
   },
   "outputs": [
    {
     "data": {
      "image/png": "[encoded data removed]",
      "text/plain": [
       "<Figure size 432x288 with 1 Axes>"
      ]
     },
     "metadata": {
      "needs_background": "light"
     },
     "output_type": "display_data"
    }
   ],
   "source": [
    "K = np.linspace(50,200,15)\n",
    "plt.plot(K, calc_exp_error(kfolds_e, 0.55), label='alfa = 0.55', linewidth = 3)\n",
    "plt.plot(120, calc_exp_error(kfolds_e, 0.55)[6], 'r.', markersize=15)\n",
    "plt.ylabel('Erro (%)')\n",
    "plt.xlabel('Número de clusters (k)')\n",
    "plt.legend()\n",
    "plt.savefig('kfolds_error.png')\n",
    "plt.show()"
   ]
  },
  {
   "cell_type": "code",
   "execution_count": 105,
   "metadata": {},
   "outputs": [
    {
     "name": "stdout",
     "output_type": "stream",
     "text": [
      "lst = 0.048, e = 0.0459\n",
      "60\n",
      "lst = 0.0459, e = 0.03810214285714286\n",
      "lst = 0.03810214285714286, e = 0.03389367857142858\n",
      "lst = 0.03389367857142858, e = 0.03114152321428572\n",
      "lst = 0.03114152321428572, e = 0.030627837767857147\n",
      "100\n",
      "lst = 0.030627837767857147, e = 0.029936219863230522\n",
      "110\n",
      "lst = 0.029936219863230522, e = 0.029964920924776785\n",
      "120\n",
      "lst = 0.029964920924776785, e = 0.028249937277858003\n",
      "lst = 0.028249937277858003, e = 0.028073179788536184\n",
      "140\n",
      "lst = 0.028073179788536184, e = 0.0271402488836949\n",
      "150\n",
      "lst = 0.0271402488836949, e = 0.027864636886032194\n",
      "160\n",
      "lst = 0.027864636886032194, e = 0.02723731499320006\n",
      "170\n",
      "lst = 0.02723731499320006, e = 0.028730523246260034\n",
      "lst = 0.028730523246260034, e = 0.029064945680179862\n",
      "190\n"
     ]
    }
   ],
   "source": [
    "error_eval = calc_exp_error(kfolds_e, 0.55)\n",
    "\n",
    "lst_e = error_eval[0]\n",
    "K = 50\n",
    "\n",
    "for e in error_eval[1:]:\n",
    "    K += 10\n",
    "    print(f'lst = {lst_e}, e = {e}')\n",
    "    if abs(e-lst_e) < 0.05*lst_e:\n",
    "        print(K)\n",
    "    lst_e = e"
   ]
  },
  {
   "cell_type": "code",
   "execution_count": 23,
   "metadata": {
    "scrolled": true
   },
   "outputs": [
    {
     "name": "stdout",
     "output_type": "stream",
     "text": [
      "K=50, 0.0679\n",
      "Elapsed time: 14.402683285999956 seconds\n",
      "K=60, 0.0601\n",
      "Elapsed time: 19.194661873998484 seconds\n",
      "K=70, 0.0566\n",
      "Elapsed time: 26.17538942000101 seconds\n",
      "K=80, 0.0523\n",
      "Elapsed time: 28.910338663999937 seconds\n",
      "K=90, 0.0523\n",
      "Elapsed time: 32.21948290399996 seconds\n",
      "K=100, 0.0495\n",
      "Elapsed time: 35.23280621499907 seconds\n",
      "K=110, 0.05\n",
      "Elapsed time: 38.451435847999164 seconds\n",
      "K=120, 0.0485\n",
      "Elapsed time: 44.78823779300001 seconds\n",
      "K=130, 0.0497\n",
      "Elapsed time: 51.018001876998824 seconds\n",
      "K=140, 0.0433\n",
      "Elapsed time: 53.875961505000305 seconds\n",
      "K=150, 0.0437\n",
      "Elapsed time: 55.146669968000424 seconds\n",
      "K=160, 0.0437\n",
      "Elapsed time: 57.12223619499855 seconds\n",
      "K=170, 0.0426\n",
      "Elapsed time: 62.37483142500059 seconds\n",
      "K=180, 0.0427\n",
      "Elapsed time: 65.34014332100014 seconds\n",
      "K=190, 0.0416\n",
      "Elapsed time: 70.47852797999985 seconds\n"
     ]
    }
   ],
   "source": [
    "# %%time\n",
    "\n",
    "error = []\n",
    "for new_data_len in range(50, 200, 10):\n",
    "    new_x_train_set = []\n",
    "    new_y_train_set = []\n",
    "    i = 0\n",
    "\n",
    "    with open(f'classes_{new_data_len}.yaml', 'r') as f:\n",
    "        clustering = yaml.load(f)\n",
    "\n",
    "    for c in clustering:\n",
    "        new_x_train_set.append(c.cluster_centers_)\n",
    "        new_y_train_set.append([i for x in range(len(c.cluster_centers_))])\n",
    "        i += 1\n",
    "    \n",
    "    start = timer()\n",
    "    new_x_train_set = np.concatenate(new_x_train_set)\n",
    "    new_y_train_set = np.concatenate(new_y_train_set)\n",
    "#     print(len(new_x_train_set))\n",
    "\n",
    "    training_set = np.hstack((new_x_train_set, np.resize(new_y_train_set, (new_x_train_set.shape[0], 1))))\n",
    "    e = evaluate_error(knn, training_set, test_set, [5])\n",
    "    print(f'K={new_data_len}, {e}')\n",
    "    end = timer()\n",
    "    error.append(e)\n",
    "    print(f'Elapsed time: {end - start} seconds')"
   ]
  },
  {
   "cell_type": "markdown",
   "metadata": {},
   "source": [
    "### usar erro médio exponencial\n",
    "\n",
    "ei+1 = (1-y)eatual + yei"
   ]
  },
  {
   "cell_type": "code",
   "execution_count": 48,
   "metadata": {},
   "outputs": [],
   "source": [
    "# results = [(50, 0.0679),\n",
    "# (60, 0.0601),\n",
    "# (70, 0.0566),\n",
    "# (80, 0.0523),\n",
    "# (90, 0.0523),\n",
    "# (100, 0.0495),\n",
    "# (110, 0.05),\n",
    "# (120, 0.0485),\n",
    "# (130, 0.0497),\n",
    "# (140, 0.0433),\n",
    "# (150, 0.0437)]\n",
    "\n",
    "total = []\n",
    "\n",
    "# for alfa in np.arange(0, 1.05, 0.05):\n",
    "for alfa in [0.45, 0.5, 0.55, 0.6]:\n",
    "    total.append(calc_exp_error(error, alfa))"
   ]
  },
  {
   "cell_type": "code",
   "execution_count": 49,
   "metadata": {},
   "outputs": [],
   "source": [
    "def calc_exp_error(err, alfa):\n",
    "    exp_e = [err[0]]\n",
    "    for i in range(1, len(err) - 1):\n",
    "        exp_e.append((1-alfa)*err[i] + alfa*exp_e[i-1])\n",
    "    \n",
    "    return exp_e"
   ]
  },
  {
   "cell_type": "code",
   "execution_count": 60,
   "metadata": {},
   "outputs": [
    {
     "data": {
      "image/png": "[encoded data removed]",
      "text/plain": [
       "<Figure size 432x288 with 1 Axes>"
      ]
     },
     "metadata": {
      "needs_background": "light"
     },
     "output_type": "display_data"
    }
   ],
   "source": [
    "K = np.linspace(50,200,14)\n",
    "plt.plot(K, calc_exp_error(error, 0.25), label='alfa = 0.55', linewidth = 3)\n",
    "plt.ylabel('Erro (%)')\n",
    "plt.xlabel('Número de clusters (K)')\n",
    "plt.legend()\n",
    "plt.show()"
   ]
  },
  {
   "cell_type": "code",
   "execution_count": null,
   "metadata": {},
   "outputs": [],
   "source": []
  },
  {
   "cell_type": "code",
   "execution_count": 9,
   "metadata": {},
   "outputs": [
    {
     "name": "stdout",
     "output_type": "stream",
     "text": [
      "K=500, 0.0361\n",
      "CPU times: user 3min 12s, sys: 2min 46s, total: 5min 59s\n",
      "Wall time: 5min 59s\n"
     ]
    }
   ],
   "source": [
    "%%time\n",
    "for new_data_len in [500]:\n",
    "    new_x_train_set = []\n",
    "    new_y_train_set = []\n",
    "    i = 0\n",
    "\n",
    "    with open(f'classes_{new_data_len}.yaml', 'r') as f:\n",
    "        clustering = yaml.load(f)\n",
    "\n",
    "    for c in clustering:\n",
    "        new_x_train_set.append(c.cluster_centers_)\n",
    "        new_y_train_set.append([i for x in range(len(c.cluster_centers_))])\n",
    "        i += 1\n",
    "\n",
    "    new_x_train_set = np.concatenate(new_x_train_set)\n",
    "    new_y_train_set = np.concatenate(new_y_train_set)\n",
    "#     print(len(new_x_train_set))\n",
    "\n",
    "    training_set = np.hstack((new_x_train_set, np.resize(new_y_train_set, (new_x_train_set.shape[0], 1))))\n",
    "    \n",
    "    print(f'K={new_data_len}, {evaluate_error(knn, training_set, test_set, [5])}')"
   ]
  },
  {
   "cell_type": "code",
   "execution_count": 10,
   "metadata": {},
   "outputs": [
    {
     "name": "stdout",
     "output_type": "stream",
     "text": [
      "K=100, 0.0495\n",
      "CPU times: user 40.5 s, sys: 41.2 ms, total: 40.6 s\n",
      "Wall time: 40.7 s\n"
     ]
    }
   ],
   "source": [
    "%%time\n",
    "for new_data_len in [100]:\n",
    "    new_x_train_set = []\n",
    "    new_y_train_set = []\n",
    "    i = 0\n",
    "\n",
    "    with open(f'classes_{new_data_len}.yaml', 'r') as f:\n",
    "        clustering = yaml.load(f)\n",
    "\n",
    "    for c in clustering:\n",
    "        new_x_train_set.append(c.cluster_centers_)\n",
    "        new_y_train_set.append([i for x in range(len(c.cluster_centers_))])\n",
    "        i += 1\n",
    "\n",
    "    new_x_train_set = np.concatenate(new_x_train_set)\n",
    "    new_y_train_set = np.concatenate(new_y_train_set)\n",
    "#     print(len(new_x_train_set))\n",
    "\n",
    "    training_set = np.hstack((new_x_train_set, np.resize(new_y_train_set, (new_x_train_set.shape[0], 1))))\n",
    "    \n",
    "    print(f'K={new_data_len}, {evaluate_error(knn, training_set, test_set, [5])}')"
   ]
  },
  {
   "cell_type": "code",
   "execution_count": 62,
   "metadata": {},
   "outputs": [
    {
     "name": "stdout",
     "output_type": "stream",
     "text": [
      "k = 1, KNN error rate (0.1, 0.035355339059327376)\n",
      "k = 2, KNN error rate (0.12250000000000001, 0.05857687256929991)\n",
      "k = 3, KNN error rate (0.06, 0.032015621187164243)\n",
      "k = 4, KNN error rate (0.05750000000000001, 0.0225)\n",
      "k = 5, KNN error rate (0.042499999999999996, 0.03363406011768428)\n",
      "k = 6, KNN error rate (0.05750000000000001, 0.0317214438511238)\n",
      "k = 7, KNN error rate (0.04, 0.03)\n",
      "k = 8, KNN error rate (0.042499999999999996, 0.0275)\n",
      "k = 9, KNN error rate (0.0475, 0.02839454172900137)\n",
      "k = 10, KNN error rate (0.0475, 0.0343693177121688)\n",
      "k = 11, KNN error rate (0.045000000000000005, 0.029154759474226504)\n",
      "CPU times: user 4.27 s, sys: 5.66 ms, total: 4.28 s\n",
      "Wall time: 4.27 s\n"
     ]
    }
   ],
   "source": [
    "%%time\n",
    "training_set = np.hstack((new_x_train_set, np.resize(new_y_train_set, (new_x_train_set.shape[0], 1))))\n",
    "# training_set = np.hstack((train_set, np.resize(y_train, (x_train.shape[0], 1))))\n",
    "\n",
    "for k in range(1,12):\n",
    "    print(f'k = {k}, KNN error rate {kfolds(knn, training_set, 10, [k])}')\n",
    "    \n",
    "# k = 5 apresentou os melhores resultados"
   ]
  },
  {
   "cell_type": "code",
   "execution_count": 208,
   "metadata": {},
   "outputs": [
    {
     "name": "stdout",
     "output_type": "stream",
     "text": [
      "success rate: 94.74\n"
     ]
    }
   ],
   "source": [
    "%%timeit\n",
    "training_set = np.hstack((new_x_train_set, np.resize(new_y_train_set, (new_x_train_set.shape[0], 1))))\n",
    "correct = 0\n",
    "\n",
    "for i, sample in enumerate(x_test):\n",
    "    sample = np.concatenate(sample)\n",
    "    predicted = knn(training_set, sample, 4)\n",
    "    if predicted == y_test[i]:\n",
    "        correct += 1\n",
    "        \n",
    "print(f'success rate: {100*correct/len(x_test)}')"
   ]
  },
  {
   "cell_type": "code",
   "execution_count": 69,
   "metadata": {},
   "outputs": [
    {
     "name": "stdout",
     "output_type": "stream",
     "text": [
      "K = 120\n",
      "\tk = 1, KNN error rate (0.04583333333333334, 0.017969882210706518)\n",
      "\tk = 2, KNN error rate (0.052500000000000005, 0.015833333333333335)\n",
      "\tk = 3, KNN error rate (0.02833333333333334, 0.014529663145135577)\n",
      "\tk = 4, KNN error rate (0.030000000000000006, 0.015898986690282425)\n",
      "\tk = 5, KNN error rate (0.029166666666666667, 0.013043729868748773)\n",
      "\tk = 6, KNN error rate (0.030833333333333334, 0.01902118701752221)\n",
      "\tk = 7, KNN error rate (0.029166666666666667, 0.017179606773406922)\n",
      "\tk = 8, KNN error rate (0.03333333333333334, 0.01536590742882148)\n",
      "\tk = 9, KNN error rate (0.03166666666666666, 0.017795130420052183)\n",
      "\tk = 10, KNN error rate (0.0325, 0.015567951410224504)\n",
      "\tk = 11, KNN error rate (0.03333333333333333, 0.013944333775567927)\n",
      "[0.04583333333333334, 0.052500000000000005, 0.02833333333333334, 0.030000000000000006, 0.029166666666666667, 0.030833333333333334, 0.029166666666666667, 0.03333333333333334, 0.03166666666666666, 0.0325, 0.03333333333333333]\n",
      "CPU times: user 57.1 s, sys: 230 ms, total: 57.3 s\n",
      "Wall time: 57.3 s\n"
     ]
    }
   ],
   "source": [
    "%%time\n",
    "knn_e = []\n",
    "\n",
    "new_data_len = 120\n",
    "print(f'K = {new_data_len}')\n",
    "new_x_train_set = []\n",
    "new_y_train_set = []\n",
    "i = 0\n",
    "\n",
    "with open(f'classes_{new_data_len}.yaml', 'r') as f:\n",
    "    clustering = yaml.load(f)\n",
    "\n",
    "for c in clustering:\n",
    "    new_x_train_set.append(c.cluster_centers_)\n",
    "    new_y_train_set.append([i for x in range(len(c.cluster_centers_))])\n",
    "    i += 1\n",
    "#     plt.imshow(np.resize(new_x_train_set, (28, 28)))\n",
    "new_x_train_set = np.concatenate(new_x_train_set)\n",
    "new_y_train_set = np.concatenate(new_y_train_set)\n",
    "#     print(len(new_x_train_set))\n",
    "\n",
    "\n",
    "training_set = np.hstack((new_x_train_set, np.resize(new_y_train_set, (new_x_train_set.shape[0], 1))))\n",
    "# training_set = np.hstack((train_set, np.resize(y_train, (x_train.shape[0], 1))))\n",
    "\n",
    "#     print(f'K={new_data_len}, {evaluate_error(knn, training_set, test_set, [5])}')\n",
    "#     print(f'K = {new_data_len}, k = 5, KNN error rate {kfolds(knn, training_set, 10, [5])}')\n",
    "#     for k in range(1,12):\n",
    "for k in range(1,12):\n",
    "    e, var = kfolds(knn, training_set, 10, [k])\n",
    "    print(f'\\tk = {k}, KNN error rate {(e, var)}')\n",
    "    knn_e.append(e)\n",
    "print(knn_e)"
   ]
  },
  {
   "cell_type": "code",
   "execution_count": 106,
   "metadata": {},
   "outputs": [
    {
     "data": {
      "image/png": "[encoded data removed]",
      "text/plain": [
       "<Figure size 432x288 with 1 Axes>"
      ]
     },
     "metadata": {
      "needs_background": "light"
     },
     "output_type": "display_data"
    }
   ],
   "source": [
    "k = list(range(1,11))\n",
    "plt.plot(k, calc_exp_error(knn_e, 0.55), label='alfa = 0.55', linewidth = 3)\n",
    "plt.plot(5, calc_exp_error(knn_e, 0.55)[4], 'r*', markersize=15)\n",
    "plt.ylabel('Erro (%)')\n",
    "plt.xlabel('Número de vizinhos (k)')\n",
    "plt.legend()\n",
    "plt.savefig('knn_error.png')\n",
    "plt.show()"
   ]
  },
  {
   "cell_type": "code",
   "execution_count": 104,
   "metadata": {},
   "outputs": [
    {
     "name": "stdout",
     "output_type": "stream",
     "text": [
      "lst = 0.04583333333333334, e = 0.04883333333333334\n",
      "lst = 0.04883333333333334, e = 0.03960833333333334\n",
      "lst = 0.03960833333333334, e = 0.03528458333333334\n",
      "lst = 0.03528458333333334, e = 0.03253152083333334\n",
      "lst = 0.03253152083333334, e = 0.03176733645833334\n",
      "6\n",
      "lst = 0.03176733645833334, e = 0.03059703505208334\n",
      "7\n",
      "lst = 0.03059703505208334, e = 0.03182836927864584\n",
      "8\n",
      "lst = 0.03182836927864584, e = 0.03175560310325521\n",
      "9\n",
      "lst = 0.03175560310325521, e = 0.03209058170679037\n",
      "10\n"
     ]
    }
   ],
   "source": [
    "error_eval_knn = calc_exp_error(knn_e, 0.55)\n",
    "\n",
    "lst_e = error_eval_knn[0]\n",
    "k = 1\n",
    "\n",
    "for e in error_eval_knn[1:]:\n",
    "    k += 1\n",
    "    print(f'lst = {lst_e}, e = {e}')\n",
    "    if abs(e-lst_e) < 0.05*lst_e:\n",
    "        print(k)\n",
    "    lst_e = e"
   ]
  },
  {
   "cell_type": "code",
   "execution_count": 102,
   "metadata": {},
   "outputs": [
    {
     "name": "stdout",
     "output_type": "stream",
     "text": [
      "K=120, 0.059\n",
      "K=120, 0.068\n",
      "K=120, 0.071\n",
      "K=120, 0.073\n",
      "K=120, 0.063\n",
      "K=120, 0.039\n",
      "K=120, 0.036\n",
      "K=120, 0.014\n",
      "K=120, 0.012\n",
      "K=120, 0.05\n",
      "CPU times: user 1min 47s, sys: 284 ms, total: 1min 47s\n",
      "Wall time: 1min 47s\n"
     ]
    }
   ],
   "source": [
    "%%time\n",
    "new_data_len = 120\n",
    "    \n",
    "mini_test = np.split(test_set, 10)\n",
    "machine_error = []\n",
    "\n",
    "for test in mini_test:\n",
    "    new_x_train_set = []\n",
    "    new_y_train_set = []\n",
    "    i = 0\n",
    "\n",
    "    with open(f'classes_{new_data_len}.yaml', 'r') as f:\n",
    "        clustering = yaml.load(f)\n",
    "\n",
    "    for c in clustering:\n",
    "        new_x_train_set.append(c.cluster_centers_)\n",
    "        new_y_train_set.append([i for x in range(len(c.cluster_centers_))])\n",
    "        i += 1\n",
    "\n",
    "    new_x_train_set = np.concatenate(new_x_train_set)\n",
    "    new_y_train_set = np.concatenate(new_y_train_set)\n",
    "    #     print(len(new_x_train_set))\n",
    "\n",
    "    training_set = np.hstack((new_x_train_set, np.resize(new_y_train_set, (new_x_train_set.shape[0], 1))))\n",
    "\n",
    "    e = evaluate_error(knn, training_set, test, [5])\n",
    "    print(f'K={new_data_len}, {e}')\n",
    "    machine_error.append(e)"
   ]
  },
  {
   "cell_type": "code",
   "execution_count": 103,
   "metadata": {},
   "outputs": [
    {
     "data": {
      "text/plain": [
       "0.0485"
      ]
     },
     "execution_count": 103,
     "metadata": {},
     "output_type": "execute_result"
    }
   ],
   "source": [
    "np.mean(machine_error)"
   ]
  },
  {
   "cell_type": "code",
   "execution_count": null,
   "metadata": {},
   "outputs": [],
   "source": []
  }
 ],
 "metadata": {
  "kernelspec": {
   "display_name": "Python 3",
   "language": "python",
   "name": "python3"
  },
  "language_info": {
   "codemirror_mode": {
    "name": "ipython",
    "version": 3
   },
   "file_extension": ".py",
   "mimetype": "text/x-python",
   "name": "python",
   "nbconvert_exporter": "python",
   "pygments_lexer": "ipython3",
   "version": "3.6.7"
  }
 },
 "nbformat": 4,
 "nbformat_minor": 2
}
