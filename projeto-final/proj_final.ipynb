{
 "cells": [
  {
   "cell_type": "code",
   "execution_count": 1,
   "metadata": {},
   "outputs": [
    {
     "name": "stderr",
     "output_type": "stream",
     "text": [
      "/usr/lib/python3.6/importlib/_bootstrap.py:219: RuntimeWarning: numpy.dtype size changed, may indicate binary incompatibility. Expected 96, got 88\n",
      "  return f(*args, **kwds)\n",
      "/usr/lib/python3.6/importlib/_bootstrap.py:219: RuntimeWarning: numpy.dtype size changed, may indicate binary incompatibility. Expected 96, got 88\n",
      "  return f(*args, **kwds)\n"
     ]
    }
   ],
   "source": [
    "import numpy as np\n",
    "import tensorflow as tf\n",
    "from sklearn.cluster import KMeans\n",
    "import matplotlib.pyplot as plt\n",
    "import yaml\n",
    "\n",
    "mnist = tf.keras.datasets.mnist"
   ]
  },
  {
   "cell_type": "code",
   "execution_count": 2,
   "metadata": {},
   "outputs": [],
   "source": [
    "# Load data from mnist into train set and test set\n",
    "(x_train, y_train),(x_test, y_test) = mnist.load_data()"
   ]
  },
  {
   "cell_type": "code",
   "execution_count": 3,
   "metadata": {},
   "outputs": [],
   "source": [
    "# Turn data into one dimensional array (for KMeans fitting)\n",
    "train_features = np.array([np.concatenate(i) for i in x_train])\n",
    "\n",
    "test_features = np.array([np.concatenate(i) for i in x_test])\n",
    "test_set = np.hstack((test_features, np.resize(y_test, (test_features.shape[0], 1))))\n",
    "\n",
    "# print(train_set[0])"
   ]
  },
  {
   "cell_type": "code",
   "execution_count": 4,
   "metadata": {
    "scrolled": true
   },
   "outputs": [],
   "source": [
    "n_clusters = len(set(y_train))\n",
    "classes = [[] for i in range(n_clusters)]\n",
    "for i in range(n_clusters):\n",
    "    classes[i] = train_features[np.where(y_train == i)]"
   ]
  },
  {
   "cell_type": "code",
   "execution_count": 5,
   "metadata": {},
   "outputs": [],
   "source": [
    "# test if classes are ok\n",
    "# plt.imshow(np.resize(classes[6][6],(28,28)))"
   ]
  },
  {
   "cell_type": "code",
   "execution_count": 6,
   "metadata": {},
   "outputs": [
    {
     "name": "stdout",
     "output_type": "stream",
     "text": [
      "CPU times: user 1h 58min 17s, sys: 47min 52s, total: 2h 46min 9s\n",
      "Wall time: 1h 32s\n"
     ]
    }
   ],
   "source": [
    "%%time\n",
    "# Creates clusters in each class, reducing number of points of data set\n",
    "for new_data_len in range(50, 160, 10):\n",
    "    clustering = []\n",
    "#     new_data_len = 40\n",
    "    for item in classes:\n",
    "        clustering.append(KMeans(n_clusters = new_data_len, random_state = 0).fit(item))\n",
    "\n",
    "    with open(f'classes_{new_data_len}.yaml', 'w') as f:\n",
    "            yaml.dump(clustering, f)"
   ]
  },
  {
   "cell_type": "code",
   "execution_count": 7,
   "metadata": {},
   "outputs": [
    {
     "name": "stdout",
     "output_type": "stream",
     "text": [
      "CPU times: user 44min 46s, sys: 12min 33s, total: 57min 19s\n",
      "Wall time: 19min 5s\n"
     ]
    }
   ],
   "source": [
    "%%time\n",
    "# Creates clusters in each class, reducing number of points of data set\n",
    "for new_data_len in [500]:\n",
    "    clustering = []\n",
    "#     new_data_len = 40\n",
    "    for item in classes:\n",
    "        clustering.append(KMeans(n_clusters = new_data_len, random_state = 0).fit(item))\n",
    "\n",
    "    with open(f'classes_{new_data_len}.yaml', 'w') as f:\n",
    "            yaml.dump(clustering, f)"
   ]
  },
  {
   "cell_type": "code",
   "execution_count": 32,
   "metadata": {},
   "outputs": [],
   "source": [
    "# test if new classes are ok\n",
    "# plt.imshow(np.resize(new_x_train_set[99], (28,28)))"
   ]
  },
  {
   "cell_type": "code",
   "execution_count": 8,
   "metadata": {},
   "outputs": [],
   "source": [
    "def calc_disp_matrix(dataset):\n",
    "    x = dataset - calc_mean(dataset)\n",
    "    return np.dot(x.T, x)\n",
    "\n",
    "def calc_cov_matrix(dataset):\n",
    "    n = len(dataset)\n",
    "    return calc_disp_matrix(dataset)/(n-1)\n",
    "\n",
    "def calc_mean(dataset):\n",
    "    return np.mean(dataset, axis=0)\n",
    "\n",
    "def log_discriminant(sample, class_mean, class_cov, class_prob):\n",
    "    cov_inv = np.linalg.inv(class_cov)\n",
    "    g = -0.5*np.dot(np.dot((sample - class_mean), cov_inv), (sample - class_mean).T) - 0.5*np.log(np.linalg.det(class_cov)) + np.log(class_prob)\n",
    "    \n",
    "    return g\n",
    "\n",
    "def bayesian_classifier(training_set, sample):\n",
    "    data = training_set[:, 0:-1]\n",
    "    labels = training_set[:,-1]\n",
    "    print(data)\n",
    "    print(labels)\n",
    "    \n",
    "    classes = set([int(i) for i in labels])\n",
    "    set_size = len(data)\n",
    "    g = [[] for i in classes]\n",
    "    \n",
    "    for i in classes:\n",
    "        p_priori = len(data[np.where(labels == i)])/set_size\n",
    "        g[i] = log_discriminant(sample, calc_mean(data[np.where(labels == i)]), calc_cov_matrix(data[np.where(labels == i)]), p_priori)\n",
    "#         print(f'g[{i}] = {g[i]}')\n",
    "#         print(g[i])\n",
    "    \n",
    "    return np.argmax(np.array(g))\n",
    "\n",
    "def most_common(lst):\n",
    "    return max(set(lst), key=lst.count)\n",
    "\n",
    "def knn(dataset, sample, k):\n",
    "    #dataset: (attributes, class labels)\n",
    "    data = dataset[:, 0:-1]\n",
    "    labels = dataset[:, -1]\n",
    "    test_sample = np.array(sample)\n",
    "    \n",
    "    total_dist = data - test_sample                          # numpy automatically creates a repeated array of test_sample\n",
    "    norm = np.sum(total_dist*total_dist, axis=1)\n",
    "    neighbors = list(zip(norm, labels))                      # create list of tuples (square of distance, label of class)\n",
    "    neighbors = sorted(neighbors, key=lambda tup: tup[0])    # sort neighbors by distance\n",
    "    closest_n = [atribute[1] for atribute in neighbors[:k]]\n",
    "    return most_common(closest_n)\n",
    "\n",
    "def evaluate_error(classifier, training, test, extrArgs = []):\n",
    "    error_rate = 0\n",
    "    \n",
    "    for sample in test:\n",
    "        if classifier == knn:\n",
    "            n = classifier(training, sample[:-1], extrArgs[0])\n",
    "        else:\n",
    "            n = classifier(training, sample[:-1])\n",
    "        error_rate += not(n == sample[-1])\n",
    "        \n",
    "    return error_rate/len(test)\n",
    "\n",
    "def split_folds(dataset, k):\n",
    "    data_cpy = dataset.copy()\n",
    "    np.random.shuffle(data_cpy)            # desordena conjunto de dados\n",
    "    folds = np.split(data_cpy, k)          # divide os grupos\n",
    "    return folds\n",
    "\n",
    "def kfolds(classifier, dataset, k, extrArgs = []):\n",
    "    folds = split_folds(dataset, k)\n",
    "    error_array = []\n",
    "\n",
    "    for i, fold in enumerate(folds):\n",
    "        folds_cpy = folds.copy()           # cria cópia dos grupos\n",
    "        test = folds_cpy.pop(i)            # separa grupo i para teste\n",
    "        training = np.vstack(folds_cpy)    # agrupa demais grupos para treinamento\n",
    "        error_array = np.append(error_array, evaluate_error(classifier, training, test, extrArgs))\n",
    "    \n",
    "    return np.mean(error_array), np.std(error_array)"
   ]
  },
  {
   "cell_type": "code",
   "execution_count": 12,
   "metadata": {
    "scrolled": false
   },
   "outputs": [
    {
     "name": "stdout",
     "output_type": "stream",
     "text": [
      "K = 50\n"
     ]
    },
    {
     "ename": "NameError",
     "evalue": "name 'kfolds' is not defined",
     "output_type": "error",
     "traceback": [
      "\u001b[0;31m---------------------------------------------------------------------------\u001b[0m",
      "\u001b[0;31mNameError\u001b[0m                                 Traceback (most recent call last)",
      "\u001b[0;32m<timed exec>\u001b[0m in \u001b[0;36m<module>\u001b[0;34m()\u001b[0m\n",
      "\u001b[0;31mNameError\u001b[0m: name 'kfolds' is not defined"
     ]
    }
   ],
   "source": [
    "%%time\n",
    "for new_data_len in range(50, 160, 10):\n",
    "    print(f'K = {new_data_len}')\n",
    "    new_x_train_set = []\n",
    "    new_y_train_set = []\n",
    "    i = 0\n",
    "\n",
    "    with open(f'classes_{new_data_len}.yaml', 'r') as f:\n",
    "        clustering = yaml.load(f)\n",
    "\n",
    "    for c in clustering:\n",
    "        new_x_train_set.append(c.cluster_centers_)\n",
    "        new_y_train_set.append([i for x in range(len(c.cluster_centers_))])\n",
    "        i += 1\n",
    "#     plt.imshow(np.resize(new_x_train_set, (28, 28)))\n",
    "    new_x_train_set = np.concatenate(new_x_train_set)\n",
    "    new_y_train_set = np.concatenate(new_y_train_set)\n",
    "#     print(len(new_x_train_set))\n",
    "\n",
    "\n",
    "    training_set = np.hstack((new_x_train_set, np.resize(new_y_train_set, (new_x_train_set.shape[0], 1))))\n",
    "    # training_set = np.hstack((train_set, np.resize(y_train, (x_train.shape[0], 1))))\n",
    "    \n",
    "#     print(f'K={new_data_len}, {evaluate_error(knn, training_set, test_set, [5])}')\n",
    "#     print(f'K = {new_data_len}, k = 5, KNN error rate {kfolds(knn, training_set, 10, [5])}')\n",
    "    for k in range(1,12):\n",
    "        print(f'\\tk = {k}, KNN error rate {kfolds(knn, training_set, 10, [k])}')\n",
    "    print()"
   ]
  },
  {
   "cell_type": "code",
   "execution_count": 14,
   "metadata": {
    "scrolled": true
   },
   "outputs": [
    {
     "name": "stdout",
     "output_type": "stream",
     "text": [
      "K=50, 0.0679\n",
      "K=60, 0.0601\n",
      "K=70, 0.0566\n",
      "K=80, 0.0523\n",
      "K=90, 0.0523\n",
      "K=100, 0.0495\n",
      "K=110, 0.05\n",
      "K=120, 0.0485\n",
      "K=130, 0.0497\n",
      "K=140, 0.0433\n",
      "K=150, 0.0437\n",
      "CPU times: user 6min 41s, sys: 5min 33s, total: 12min 14s\n",
      "Wall time: 12min 15s\n"
     ]
    }
   ],
   "source": [
    "%%time\n",
    "for new_data_len in range(50, 160, 10):\n",
    "    new_x_train_set = []\n",
    "    new_y_train_set = []\n",
    "    i = 0\n",
    "\n",
    "    with open(f'classes_{new_data_len}.yaml', 'r') as f:\n",
    "        clustering = yaml.load(f)\n",
    "\n",
    "    for c in clustering:\n",
    "        new_x_train_set.append(c.cluster_centers_)\n",
    "        new_y_train_set.append([i for x in range(len(c.cluster_centers_))])\n",
    "        i += 1\n",
    "\n",
    "    new_x_train_set = np.concatenate(new_x_train_set)\n",
    "    new_y_train_set = np.concatenate(new_y_train_set)\n",
    "#     print(len(new_x_train_set))\n",
    "\n",
    "    training_set = np.hstack((new_x_train_set, np.resize(new_y_train_set, (new_x_train_set.shape[0], 1))))\n",
    "w\n",
    "    print(f'K={new_data_len}, {evaluate_error(knn, training_set, test_set, [5])}')"
   ]
  },
  {
   "cell_type": "markdown",
   "metadata": {},
   "source": [
    "### usar erro médio exponencial\n",
    "\n",
    "ei+1 = (1-y)eatual + yei"
   ]
  },
  {
   "cell_type": "code",
   "execution_count": 18,
   "metadata": {},
   "outputs": [
    {
     "data": {
      "text/plain": [
       "[<matplotlib.lines.Line2D at 0x7f6545b916d8>]"
      ]
     },
     "execution_count": 18,
     "metadata": {},
     "output_type": "execute_result"
    },
    {
     "data": {
      "image/png": "[encoded data removed]",
      "text/plain": [
       "<Figure size 432x288 with 1 Axes>"
      ]
     },
     "metadata": {
      "needs_background": "light"
     },
     "output_type": "display_data"
    }
   ],
   "source": [
    "x = [(50, 0.0679),\n",
    "(60, 0.0601),\n",
    "(70, 0.0566),\n",
    "(80, 0.0523),\n",
    "(90, 0.0523),\n",
    "(100, 0.0495),\n",
    "(110, 0.05),\n",
    "(120, 0.0485),\n",
    "(130, 0.0497)]\n",
    "\n",
    "plt.plot([a[0] for a in x], [a[1] for a in x])"
   ]
  },
  {
   "cell_type": "code",
   "execution_count": 9,
   "metadata": {},
   "outputs": [
    {
     "name": "stdout",
     "output_type": "stream",
     "text": [
      "K=500, 0.0361\n",
      "CPU times: user 3min 12s, sys: 2min 46s, total: 5min 59s\n",
      "Wall time: 5min 59s\n"
     ]
    }
   ],
   "source": [
    "%%time\n",
    "for new_data_len in [500]:\n",
    "    new_x_train_set = []\n",
    "    new_y_train_set = []\n",
    "    i = 0\n",
    "\n",
    "    with open(f'classes_{new_data_len}.yaml', 'r') as f:\n",
    "        clustering = yaml.load(f)\n",
    "\n",
    "    for c in clustering:\n",
    "        new_x_train_set.append(c.cluster_centers_)\n",
    "        new_y_train_set.append([i for x in range(len(c.cluster_centers_))])\n",
    "        i += 1\n",
    "\n",
    "    new_x_train_set = np.concatenate(new_x_train_set)\n",
    "    new_y_train_set = np.concatenate(new_y_train_set)\n",
    "#     print(len(new_x_train_set))\n",
    "\n",
    "    training_set = np.hstack((new_x_train_set, np.resize(new_y_train_set, (new_x_train_set.shape[0], 1))))\n",
    "    \n",
    "    print(f'K={new_data_len}, {evaluate_error(knn, training_set, test_set, [5])}')"
   ]
  },
  {
   "cell_type": "code",
   "execution_count": 10,
   "metadata": {},
   "outputs": [
    {
     "name": "stdout",
     "output_type": "stream",
     "text": [
      "K=100, 0.0495\n",
      "CPU times: user 40.5 s, sys: 41.2 ms, total: 40.6 s\n",
      "Wall time: 40.7 s\n"
     ]
    }
   ],
   "source": [
    "%%time\n",
    "for new_data_len in [100]:\n",
    "    new_x_train_set = []\n",
    "    new_y_train_set = []\n",
    "    i = 0\n",
    "\n",
    "    with open(f'classes_{new_data_len}.yaml', 'r') as f:\n",
    "        clustering = yaml.load(f)\n",
    "\n",
    "    for c in clustering:\n",
    "        new_x_train_set.append(c.cluster_centers_)\n",
    "        new_y_train_set.append([i for x in range(len(c.cluster_centers_))])\n",
    "        i += 1\n",
    "\n",
    "    new_x_train_set = np.concatenate(new_x_train_set)\n",
    "    new_y_train_set = np.concatenate(new_y_train_set)\n",
    "#     print(len(new_x_train_set))\n",
    "\n",
    "    training_set = np.hstack((new_x_train_set, np.resize(new_y_train_set, (new_x_train_set.shape[0], 1))))\n",
    "    \n",
    "    print(f'K={new_data_len}, {evaluate_error(knn, training_set, test_set, [5])}')"
   ]
  },
  {
   "cell_type": "code",
   "execution_count": 62,
   "metadata": {},
   "outputs": [
    {
     "name": "stdout",
     "output_type": "stream",
     "text": [
      "k = 1, KNN error rate (0.1, 0.035355339059327376)\n",
      "k = 2, KNN error rate (0.12250000000000001, 0.05857687256929991)\n",
      "k = 3, KNN error rate (0.06, 0.032015621187164243)\n",
      "k = 4, KNN error rate (0.05750000000000001, 0.0225)\n",
      "k = 5, KNN error rate (0.042499999999999996, 0.03363406011768428)\n",
      "k = 6, KNN error rate (0.05750000000000001, 0.0317214438511238)\n",
      "k = 7, KNN error rate (0.04, 0.03)\n",
      "k = 8, KNN error rate (0.042499999999999996, 0.0275)\n",
      "k = 9, KNN error rate (0.0475, 0.02839454172900137)\n",
      "k = 10, KNN error rate (0.0475, 0.0343693177121688)\n",
      "k = 11, KNN error rate (0.045000000000000005, 0.029154759474226504)\n",
      "CPU times: user 4.27 s, sys: 5.66 ms, total: 4.28 s\n",
      "Wall time: 4.27 s\n"
     ]
    }
   ],
   "source": [
    "%%time\n",
    "training_set = np.hstack((new_x_train_set, np.resize(new_y_train_set, (new_x_train_set.shape[0], 1))))\n",
    "# training_set = np.hstack((train_set, np.resize(y_train, (x_train.shape[0], 1))))\n",
    "\n",
    "for k in range(1,12):\n",
    "    print(f'k = {k}, KNN error rate {kfolds(knn, training_set, 10, [k])}')\n",
    "    \n",
    "# k = 5 apresentou os melhores resultados"
   ]
  },
  {
   "cell_type": "code",
   "execution_count": 208,
   "metadata": {},
   "outputs": [
    {
     "name": "stdout",
     "output_type": "stream",
     "text": [
      "success rate: 94.74\n"
     ]
    }
   ],
   "source": [
    "%%timeit\n",
    "training_set = np.hstack((new_x_train_set, np.resize(new_y_train_set, (new_x_train_set.shape[0], 1))))\n",
    "correct = 0\n",
    "\n",
    "for i, sample in enumerate(x_test):\n",
    "    sample = np.concatenate(sample)\n",
    "    predicted = knn(training_set, sample, 4)\n",
    "    if predicted == y_test[i]:\n",
    "        correct += 1\n",
    "        \n",
    "print(f'success rate: {100*correct/len(x_test)}')"
   ]
  },
  {
   "cell_type": "code",
   "execution_count": 17,
   "metadata": {},
   "outputs": [],
   "source": [
    "x = [i > 50 for i in train_set[0]]\n",
    "x = [256 if i else 0 for i in x]"
   ]
  },
  {
   "cell_type": "code",
   "execution_count": 18,
   "metadata": {},
   "outputs": [
    {
     "data": {
      "text/plain": [
       "<matplotlib.image.AxesImage at 0x7f6bcd2caa20>"
      ]
     },
     "execution_count": 18,
     "metadata": {},
     "output_type": "execute_result"
    },
    {
     "data": {
      "image/png": "[encoded data removed]",
      "text/plain": [
       "<Figure size 432x288 with 1 Axes>"
      ]
     },
     "metadata": {
      "needs_background": "light"
     },
     "output_type": "display_data"
    }
   ],
   "source": [
    "plt.imshow(np.resize(x, (28, 28)))"
   ]
  }
 ],
 "metadata": {
  "kernelspec": {
   "display_name": "Python 3",
   "language": "python",
   "name": "python3"
  },
  "language_info": {
   "codemirror_mode": {
    "name": "ipython",
    "version": 3
   },
   "file_extension": ".py",
   "mimetype": "text/x-python",
   "name": "python",
   "nbconvert_exporter": "python",
   "pygments_lexer": "ipython3",
   "version": "3.6.7"
  }
 },
 "nbformat": 4,
 "nbformat_minor": 2
}
