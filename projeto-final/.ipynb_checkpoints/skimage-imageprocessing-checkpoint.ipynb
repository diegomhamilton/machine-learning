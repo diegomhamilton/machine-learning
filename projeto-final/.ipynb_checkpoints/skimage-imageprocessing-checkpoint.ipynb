{
 "cells": [
  {
   "cell_type": "markdown",
   "metadata": {},
   "source": [
    "# Skimage"
   ]
  },
  {
   "cell_type": "markdown",
   "metadata": {},
   "source": [
    "O módulo skimage é uma extensão do scipy para processamento de imagem.  Ele possui diversas funções que são úteis em várias aplicações de processamento de imagem, incluindo detecção de formas e padrões.\n",
    "\n",
    "Veremos abaixo algumas dessas aplicações."
   ]
  },
  {
   "cell_type": "markdown",
   "metadata": {},
   "source": [
    "# Segmentação de imagens"
   ]
  },
  {
   "cell_type": "markdown",
   "metadata": {},
   "source": [
    "A segmentação de imagens é uma técnica importante que é bastante usada como etapa preliminar da detecção e reconhecimento de formas e padrões. Ela consiste em simplificar a imagem através da divisão dos pixels baseados em suas propriedades.\n",
    "\n",
    "Uma técnica de segmentação de imagens simples e bastante útil é a segmentação por limiar baseado em histograma.  Nela, escolhemos ou calculamos um valor, ou limiar, de intensidade luminosa e separamos os pixels de uma imagem em dois grupos, os que tem intensidade menor e os que tem intensidade maior do que o limiar escolhido."
   ]
  },
  {
   "cell_type": "code",
   "execution_count": 1,
   "metadata": {},
   "outputs": [
    {
     "ename": "ModuleNotFoundError",
     "evalue": "No module named 'skimage'",
     "output_type": "error",
     "traceback": [
      "\u001b[0;31m---------------------------------------------------------------------------\u001b[0m",
      "\u001b[0;31mModuleNotFoundError\u001b[0m                       Traceback (most recent call last)",
      "\u001b[0;32m<ipython-input-1-6d6b2f724cc2>\u001b[0m in \u001b[0;36m<module>\u001b[0;34m()\u001b[0m\n\u001b[1;32m      1\u001b[0m \u001b[0;32mimport\u001b[0m \u001b[0mmatplotlib\u001b[0m\u001b[0;34m.\u001b[0m\u001b[0mpyplot\u001b[0m \u001b[0;32mas\u001b[0m \u001b[0mplt\u001b[0m\u001b[0;34m\u001b[0m\u001b[0m\n\u001b[1;32m      2\u001b[0m \u001b[0;32mimport\u001b[0m \u001b[0mnumpy\u001b[0m \u001b[0;32mas\u001b[0m \u001b[0mnp\u001b[0m\u001b[0;34m\u001b[0m\u001b[0m\n\u001b[0;32m----> 3\u001b[0;31m \u001b[0;32mfrom\u001b[0m \u001b[0mskimage\u001b[0m \u001b[0;32mimport\u001b[0m \u001b[0mtransform\u001b[0m \u001b[0;32mas\u001b[0m \u001b[0mtf\u001b[0m\u001b[0;34m\u001b[0m\u001b[0m\n\u001b[0m\u001b[1;32m      4\u001b[0m \u001b[0;32mfrom\u001b[0m \u001b[0mskimage\u001b[0m \u001b[0;32mimport\u001b[0m \u001b[0mmorphology\u001b[0m \u001b[0;32mas\u001b[0m \u001b[0mmorph\u001b[0m\u001b[0;34m\u001b[0m\u001b[0m\n\u001b[1;32m      5\u001b[0m \u001b[0;32mfrom\u001b[0m \u001b[0mskimage\u001b[0m \u001b[0;32mimport\u001b[0m \u001b[0mio\u001b[0m\u001b[0;34m,\u001b[0m \u001b[0mfilters\u001b[0m\u001b[0;34m,\u001b[0m \u001b[0mexposure\u001b[0m\u001b[0;34m,\u001b[0m \u001b[0mdraw\u001b[0m\u001b[0;34m,\u001b[0m \u001b[0mmeasure\u001b[0m\u001b[0;34m\u001b[0m\u001b[0m\n",
      "\u001b[0;31mModuleNotFoundError\u001b[0m: No module named 'skimage'"
     ]
    }
   ],
   "source": [
    "import matplotlib.pyplot as plt\n",
    "import numpy as np\n",
    "from skimage import transform as tf\n",
    "from skimage import morphology as morph\n",
    "from skimage import io, filters, exposure, draw, measure\n",
    "\n",
    "def compare_images(im1, im2, **args):\n",
    "    plt.subplot(121)\n",
    "    plt.imshow(im1, **args)\n",
    "    plt.gca().set_axis_off()\n",
    "    plt.subplot(122)\n",
    "    plt.imshow(im2, **args)\n",
    "    plt.gca().set_axis_off()"
   ]
  },
  {
   "cell_type": "code",
   "execution_count": null,
   "metadata": {},
   "outputs": [],
   "source": [
    "# A função filters.threshold_isodata() é apenas uma das funções que calcula\n",
    "# um valor de limiar.  Outras existem que podem oferecer um melhor valor\n",
    "# dependendo da situação\n",
    "img_bw = io.imread(\"face.jpg\", as_grey=True)\n",
    "\n",
    "t = filters.threshold_isodata(img_bw)\n",
    "img_th = img_bw > t\n",
    "compare_images(img_bw, img_th, cmap=\"gray\")"
   ]
  },
  {
   "cell_type": "code",
   "execution_count": null,
   "metadata": {},
   "outputs": [],
   "source": [
    "# A função filters.threshold_local() calcula o valor de threshold baseado\n",
    "# nas estatísticas dos pixels em uma região em torno de cada pixel\n",
    "t = filters.threshold_local(img_bw, block_size=45, offset=0.04, method=\"mean\")\n",
    "img_th = np.where(img_bw > t, 255, 0)\n",
    "compare_images(img_bw, img_th, cmap=\"gray\")"
   ]
  },
  {
   "cell_type": "markdown",
   "metadata": {},
   "source": [
    "## Detectores de arestas"
   ]
  },
  {
   "cell_type": "markdown",
   "metadata": {},
   "source": [
    "Uma outra operação muito comum no processamento de imagens é a detecção de arestas.  Isto é geralmente feito com uma aproximação de um operador diferencial.  Um destes operadores que é bastante usado é o operador `sobel`."
   ]
  },
  {
   "cell_type": "code",
   "execution_count": null,
   "metadata": {},
   "outputs": [],
   "source": [
    "img_color = io.imread(\"bricks.jpg\")\n",
    "img_bw = io.imread(\"bricks.jpg\", as_grey=True)\n",
    "img_sobel = filters.sobel(img_bw)\n",
    "\n",
    "plt.imshow(img_color)\n",
    "plt.gca().set_axis_off()\n",
    "plt.show()\n",
    "plt.imshow(img_sobel, cmap=\"gray\")\n",
    "plt.gca().set_axis_off()\n",
    "plt.show()"
   ]
  },
  {
   "cell_type": "markdown",
   "metadata": {},
   "source": [
    "Podemos melhorar a detecção fazendo um pré-processamento da imagem para salientar as arestas."
   ]
  },
  {
   "cell_type": "code",
   "execution_count": null,
   "metadata": {},
   "outputs": [],
   "source": [
    "# Primeiro convertemos para binário aplicando um threshold.  Depois limpamos um pouco\n",
    "# a imagem removendo pequenos pontos pretos\n",
    "\n",
    "img_th = img_color[:,:,0] > 170\n",
    "img_clean = morph.closing(img_th)\n",
    "\n",
    "plt.imshow(img_th, cmap=\"gray\")\n",
    "plt.gca().set_axis_off()\n",
    "plt.show()\n",
    "plt.imshow(img_clean, cmap=\"gray\")\n",
    "plt.gca().set_axis_off()\n",
    "plt.show()"
   ]
  },
  {
   "cell_type": "code",
   "execution_count": null,
   "metadata": {},
   "outputs": [],
   "source": [
    "# Em seguida, aumentamos um pouco as áreas escuras e finalmente aplicamos o\n",
    "# filtro sobel\n",
    "\n",
    "img_darker = morph.erosion(img_clean)\n",
    "img_sobel2 = filters.sobel(img_darker)\n",
    "\n",
    "plt.imshow(img_darker, cmap=\"gray\")\n",
    "plt.gca().set_axis_off()\n",
    "plt.show()\n",
    "plt.imshow(img_sobel2, cmap=\"gray\")\n",
    "plt.gca().set_axis_off()\n",
    "plt.show()"
   ]
  },
  {
   "cell_type": "markdown",
   "metadata": {},
   "source": [
    "## Transformadas Hough"
   ]
  },
  {
   "cell_type": "markdown",
   "metadata": {},
   "source": [
    "As transformadas Hough são usadas para detectar padrões geométricos (linhas, círculos, elipses, etc) em uma imagem.  Em geral, queremos detectar estas figuras geométricas entre as arestas em uma imagem, de modo que é comum usarmos um dos filtros de detecção de arestas antes de aplicarmos este tipo de transformada."
   ]
  },
  {
   "cell_type": "code",
   "execution_count": null,
   "metadata": {},
   "outputs": [],
   "source": [
    "out, angles, d = tf.hough_line(img_sobel2)\n",
    "\n",
    "plt.imshow(out, cmap=plt.cm.bone, extent=(10*np.rad2deg(angles[-1]), 10*np.rad2deg(angles[0]), d[-1], d[0]))\n",
    "plt.title('Hough transform')\n",
    "plt.xlabel('Angle (tenths of degree)')\n",
    "plt.ylabel('Distance (pixel)')\n",
    "plt.tight_layout()"
   ]
  },
  {
   "cell_type": "markdown",
   "metadata": {},
   "source": [
    "## Aplicações"
   ]
  },
  {
   "cell_type": "markdown",
   "metadata": {},
   "source": [
    "Veremos agora dois exemplos que utilizam as operações que acabamos de ver para realizar contagem de objetos."
   ]
  },
  {
   "cell_type": "code",
   "execution_count": null,
   "metadata": {},
   "outputs": [],
   "source": [
    "# Nesta aplicação, faremos uma contagem de frutas\n",
    "\n",
    "img_orig = io.imread(\"frutas.jpg\")\n",
    "plt.imshow(img_orig)\n",
    "plt.gca().set_axis_off()\n",
    "plt.tight_layout()"
   ]
  },
  {
   "cell_type": "code",
   "execution_count": null,
   "metadata": {},
   "outputs": [],
   "source": [
    "# Inicialmente fazemos uma segmentação da imagem\n",
    "\n",
    "img1 = np.where(np.logical_and(np.abs(img_orig[:,:,0] - img_orig[:,:,2]) < 20,\n",
    "                               img_orig[:,:,0] > 150), 255, 0)\n",
    "img1 = morph.dilation(img1, selem=morph.disk(5))\n",
    "plt.imshow(img1, cmap=\"gray\")\n",
    "plt.gca().set_axis_off()\n",
    "plt.tight_layout()"
   ]
  },
  {
   "cell_type": "code",
   "execution_count": null,
   "metadata": {},
   "outputs": [],
   "source": [
    "labels, nbr_labels = measure.label(img1, connectivity=1, return_num=True)\n",
    "print(\"Número de frutas = \", nbr_labels)"
   ]
  },
  {
   "cell_type": "markdown",
   "metadata": {},
   "source": [
    "A segunda aplicação é um pouco mais elaborada."
   ]
  },
  {
   "cell_type": "code",
   "execution_count": null,
   "metadata": {},
   "outputs": [],
   "source": [
    "# Para a figura abaixo, queremos realizar a contagem das cadeiras\n",
    "\n",
    "img_color = io.imread(\"cadeiras.jpg\")\n",
    "plt.imshow(img_color)\n",
    "plt.gca().set_axis_off()\n",
    "plt.tight_layout()"
   ]
  },
  {
   "cell_type": "code",
   "execution_count": null,
   "metadata": {},
   "outputs": [],
   "source": [
    "# Faremos incialmente uma segmentação da imagem\n",
    "\n",
    "img1 = morph.opening(img_orig[:,:,2], selem=morph.disk(3))\n",
    "t = filters.threshold_minimum(img1)\n",
    "img2 = np.where(img1 > t, 255, 0)\n",
    "img2 = morph.opening(img2, selem=morph.disk(3))\n",
    "img2 = morph.closing(img2, selem=morph.disk(3))\n",
    "plt.imshow(img2, cmap=\"gray\")\n",
    "plt.gca().set_axis_off()\n",
    "plt.tight_layout()"
   ]
  },
  {
   "cell_type": "code",
   "execution_count": null,
   "metadata": {
    "scrolled": true
   },
   "outputs": [],
   "source": [
    "# Em seguida, rotularemos as regiões contíguas\n",
    "\n",
    "labels = measure.label(img2, connectivity=1)\n",
    "plt.imshow(labels, cmap=\"gray\")\n",
    "plt.gca().set_axis_off()\n",
    "plt.tight_layout()"
   ]
  },
  {
   "cell_type": "code",
   "execution_count": null,
   "metadata": {
    "scrolled": true
   },
   "outputs": [],
   "source": [
    "# Por último, faremos medições de propriedades de cada região, e selecionaremos apenas\n",
    "# as que nos interessam\n",
    "\n",
    "props = measure.regionprops(labels)\n",
    "\n",
    "for label in (p.label for p in props if p.eccentricity < 0.99 or p.area < 370):\n",
    "    img2[labels == label] = 0\n",
    "\n",
    "plt.imshow(img2, cmap=\"gray\")\n",
    "plt.gca().set_axis_off()\n",
    "plt.tight_layout()"
   ]
  },
  {
   "cell_type": "code",
   "execution_count": null,
   "metadata": {
    "scrolled": true
   },
   "outputs": [],
   "source": [
    "# Agora podemos contar as cadeiras\n",
    "\n",
    "print(\"Número de cadeiras = \", sum(1 for p in props if p.eccentricity >= 0.99 and p.area >= 370))"
   ]
  }
 ],
 "metadata": {
  "kernelspec": {
   "display_name": "Python 3",
   "language": "python",
   "name": "python3"
  },
  "language_info": {
   "codemirror_mode": {
    "name": "ipython",
    "version": 3
   },
   "file_extension": ".py",
   "mimetype": "text/x-python",
   "name": "python",
   "nbconvert_exporter": "python",
   "pygments_lexer": "ipython3",
   "version": "3.6.6"
  }
 },
 "nbformat": 4,
 "nbformat_minor": 2
}
