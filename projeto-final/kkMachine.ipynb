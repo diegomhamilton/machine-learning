{
 "cells": [
  {
   "cell_type": "code",
   "execution_count": 66,
   "metadata": {},
   "outputs": [],
   "source": [
    "import numpy as np\n",
    "import tensorflow as tf\n",
    "from sklearn.cluster import KMeans\n",
    "import matplotlib.pyplot as plt\n",
    "import yaml\n",
    "\n",
    "mnist = tf.keras.datasets.mnist"
   ]
  },
  {
   "cell_type": "code",
   "execution_count": 67,
   "metadata": {},
   "outputs": [],
   "source": [
    "# Load data from mnist into train set and test set\n",
    "(x_train, y_train),(x_test, y_test) = mnist.load_data()\n",
    "\n",
    "# Turn data into one dimensional array (for KMeans fitting)\n",
    "train_features = np.array([np.concatenate(i) for i in x_train])\n",
    "\n",
    "test_features = np.array([np.concatenate(i) for i in x_test])\n",
    "test_set = np.hstack((test_features, np.resize(y_test, (test_features.shape[0], 1))))"
   ]
  },
  {
   "cell_type": "code",
   "execution_count": 2,
   "metadata": {},
   "outputs": [],
   "source": [
    "with open(f'classes_{10}.yaml', 'r') as f:\n",
    "    clustering = yaml.load(f)"
   ]
  },
  {
   "cell_type": "code",
   "execution_count": 113,
   "metadata": {},
   "outputs": [],
   "source": [
    "import numpy as np\n",
    "from sklearn.cluster import KMeans\n",
    "from kklib import knn\n",
    "\n",
    "class kkMachine:\n",
    "    def __init__(self, dataset = [], data_labels = [], kmeans = 120, knn = 5):\n",
    "        self.features = np.array([np.concatenate(i) for i in dataset])\n",
    "        self.labels = data_labels\n",
    "        self.k_means = kmeans\n",
    "        self.k_nn = knn\n",
    "    \n",
    "    def split_classes(self):\n",
    "        # Split dataset into classes to be minimized (k-means)\n",
    "        n_classes = len(set(self.labels))\n",
    "        classes = [[] for i in range(n_clusters)]\n",
    "        for i in range(n_classes):\n",
    "            classes[i] = self.features[np.where(self.labels == i)]\n",
    "        \n",
    "        return classes\n",
    "    \n",
    "    def train(self, training_set = None, label_set = None, kmeans = None):\n",
    "        # Load training set\n",
    "        if training_set:\n",
    "            self.features = np.array([np.concatenate(i) for i in training_set])\n",
    "            self.labels = label_set\n",
    "        else:\n",
    "            if len(self.features) == 0:\n",
    "                raise Exception('Empty dataset')\n",
    "        \n",
    "        if not kmeans:\n",
    "            kmeans = self.k_means \n",
    "            \n",
    "        self.classes = self.split_classes()\n",
    "        new_features = []\n",
    "        new_labels = []\n",
    "        i = 0\n",
    "        \n",
    "        for c in self.classes:\n",
    "            # Reduce number of elements in each class of dataset\n",
    "            cluster = KMeans(n_clusters = kmeans, random_state = 0).fit(c)\n",
    "            new_features.append(cluster.cluster_centers_)\n",
    "            new_labels.append([i for x in range(len(cluster.cluster_centers_))])\n",
    "            i += 1\n",
    "        # Standardize dataset to be processed\n",
    "        new_features = np.concatenate(new_features)\n",
    "        new_labels = np.concatenate(new_labels)\n",
    "        self.features = np.hstack((new_features, np.resize(new_labels, (new_features.shape[0], 1))))\n",
    "        self.labels = new_labels\n",
    "\n",
    "    def predict(self, sample_features, new_knn = None):\n",
    "        # Predict sample using k-NN\n",
    "        if not new_knn:\n",
    "            new_knn = self.k_nn\n",
    "        prediction = knn(self.features, sample_features, new_knn)\n",
    "        \n",
    "        return prediction"
   ]
  },
  {
   "cell_type": "code",
   "execution_count": 115,
   "metadata": {},
   "outputs": [],
   "source": [
    "mac = kkMachine(x_train, y_train)"
   ]
  },
  {
   "cell_type": "code",
   "execution_count": 116,
   "metadata": {},
   "outputs": [
    {
     "name": "stdout",
     "output_type": "stream",
     "text": [
      "CPU times: user 12min 26s, sys: 4min 44s, total: 17min 11s\n",
      "Wall time: 5min 44s\n"
     ]
    }
   ],
   "source": [
    "%%time\n",
    "mac.train()"
   ]
  },
  {
   "cell_type": "code",
   "execution_count": 100,
   "metadata": {},
   "outputs": [
    {
     "data": {
      "text/plain": [
       "7"
      ]
     },
     "execution_count": 100,
     "metadata": {},
     "output_type": "execute_result"
    }
   ],
   "source": [
    "x_test[0]\n",
    "y_test[0]"
   ]
  },
  {
   "cell_type": "code",
   "execution_count": 99,
   "metadata": {},
   "outputs": [],
   "source": [
    "test_features = np.array([np.concatenate(i) for i in x_test])\n",
    "test_set = np.hstack((test_features, np.resize(y_test, (test_features.shape[0], 1))))"
   ]
  },
  {
   "cell_type": "code",
   "execution_count": 118,
   "metadata": {},
   "outputs": [
    {
     "name": "stdout",
     "output_type": "stream",
     "text": [
      "0.9515951595159516\n"
     ]
    }
   ],
   "source": [
    "correct = 0\n",
    "for i in range(len(test_features)):\n",
    "    n = mac.predict(test_features[i])\n",
    "    if n == y_test[i]:\n",
    "        correct += 1\n",
    "        \n",
    "print(correct/i)"
   ]
  },
  {
   "cell_type": "code",
   "execution_count": 112,
   "metadata": {},
   "outputs": [
    {
     "name": "stdout",
     "output_type": "stream",
     "text": [
      "> <string>(1)<module>()\n",
      "(Pdb) n\n",
      "TypeError: 'int' object is not callable\n",
      "> <string>(1)<module>()\n",
      "(Pdb) p knn\n",
      "<function knn at 0x7f1738a2cea0>\n",
      "(Pdb) quit\n"
     ]
    }
   ],
   "source": [
    "import pdb\n",
    "\n",
    "pdb.run('mac.predict(test_features[0])')"
   ]
  },
  {
   "cell_type": "code",
   "execution_count": null,
   "metadata": {},
   "outputs": [],
   "source": []
  }
 ],
 "metadata": {
  "kernelspec": {
   "display_name": "Python 3",
   "language": "python",
   "name": "python3"
  },
  "language_info": {
   "codemirror_mode": {
    "name": "ipython",
    "version": 3
   },
   "file_extension": ".py",
   "mimetype": "text/x-python",
   "name": "python",
   "nbconvert_exporter": "python",
   "pygments_lexer": "ipython3",
   "version": "3.6.7"
  }
 },
 "nbformat": 4,
 "nbformat_minor": 2
}
