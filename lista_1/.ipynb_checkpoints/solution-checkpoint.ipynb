{
 "cells": [
  {
   "cell_type": "code",
   "execution_count": 3,
   "metadata": {},
   "outputs": [],
   "source": [
    "import numpy as np"
   ]
  },
  {
   "cell_type": "code",
   "execution_count": 4,
   "metadata": {},
   "outputs": [],
   "source": [
    "# opens and proccess data for future use\n",
    "with open('iris/iris.data', 'r') as data:\n",
    "    iris_class = []\n",
    "    iris_data = data.read()\n",
    "    iris_data = iris_data[:-1].split('\\n')\n",
    "    \n",
    "    for i in range(len(iris_data)):\n",
    "        iris_data[i] = iris_data[i].split(',')\n",
    "    for i in range(len(iris_data)):\n",
    "        iris_class.append(iris_data[i][-1])\n",
    "        iris_data[i] = [float(atribute) for atribute in iris_data[i][:-1]]\n",
    "    \n",
    "#     iris_data = [np.array(x) for x in iris_data]\n",
    "    iris = np.array(iris_data)"
   ]
  },
  {
   "cell_type": "markdown",
   "metadata": {},
   "source": [
    "# Questão 1\n",
    "#### Utilizando a base de dados Iris, disponível no link abaixo, e a linguagem de programação de sua preferência, calcule para cada classe:"
   ]
  },
  {
   "cell_type": "markdown",
   "metadata": {},
   "source": [
    "a) O vetor médio"
   ]
  },
  {
   "cell_type": "code",
   "execution_count": 5,
   "metadata": {},
   "outputs": [
    {
     "name": "stdout",
     "output_type": "stream",
     "text": [
      "[5.843333333333335, 3.0540000000000007, 3.7586666666666693, 1.1986666666666672]\n"
     ]
    }
   ],
   "source": [
    "mean_vector = np.mean(iris_data, axis=0)\n",
    "print([x for x in mean_vector])"
   ]
  },
  {
   "cell_type": "markdown",
   "metadata": {},
   "source": [
    "b) O vetor de desvio padrão para cada característica da base de dados"
   ]
  },
  {
   "cell_type": "code",
   "execution_count": 6,
   "metadata": {},
   "outputs": [
    {
     "name": "stdout",
     "output_type": "stream",
     "text": [
      "[0.8253012917851409, 0.4321465800705435, 1.7585291834055201, 0.760612618588172]\n"
     ]
    }
   ],
   "source": [
    "std_vector = np.std(iris_data, axis=0)\n",
    "print([x for x in std_vector])"
   ]
  },
  {
   "cell_type": "markdown",
   "metadata": {},
   "source": [
    "c) O vetor máximo para cada característica da base de dados\n"
   ]
  },
  {
   "cell_type": "code",
   "execution_count": 7,
   "metadata": {},
   "outputs": [
    {
     "name": "stdout",
     "output_type": "stream",
     "text": [
      "[7.9, 4.4, 6.9, 2.5]\n"
     ]
    }
   ],
   "source": [
    "max_vector = np.max(iris_data, axis=0)\n",
    "print([x for x in max_vector])"
   ]
  },
  {
   "cell_type": "markdown",
   "metadata": {},
   "source": [
    "d) O vetor mínimo para cada característica da base de dados"
   ]
  },
  {
   "cell_type": "code",
   "execution_count": 8,
   "metadata": {},
   "outputs": [
    {
     "name": "stdout",
     "output_type": "stream",
     "text": [
      "[4.3, 2.0, 1.0, 0.1]\n"
     ]
    }
   ],
   "source": [
    "max_vector = np.min(iris_data, axis=0)\n",
    "print([x for x in max_vector])"
   ]
  },
  {
   "cell_type": "markdown",
   "metadata": {},
   "source": [
    "e) A matriz de dispersão\n"
   ]
  },
  {
   "cell_type": "code",
   "execution_count": 11,
   "metadata": {},
   "outputs": [
    {
     "name": "stdout",
     "output_type": "stream",
     "text": [
      "[[102.16833333  -5.851      189.77866667  77.01866667]\n",
      " [ -5.851       28.0126     -47.9352     -17.5792    ]\n",
      " [189.77866667 -47.9352     463.86373333 193.16173333]\n",
      " [ 77.01866667 -17.5792     193.16173333  86.77973333]]\n"
     ]
    }
   ],
   "source": [
    "n_columns = len(mean_vector)\n",
    "n_samples = len(iris_data)\n",
    "# cov_matrix = np.zeros((n_columns, n_columns))\n",
    "disp_matrix = np.matmul(np.array([iris[i] - mean_vector for i in range(len(iris_data))]).T, ([iris[i] - mean_vector for i in range(len(iris_data))]))\n",
    "print(disp_matrix)"
   ]
  },
  {
   "cell_type": "markdown",
   "metadata": {},
   "source": [
    "f) A matriz de covariância"
   ]
  },
  {
   "cell_type": "code",
   "execution_count": 9,
   "metadata": {},
   "outputs": [
    {
     "name": "stdout",
     "output_type": "stream",
     "text": [
      "[[ 0.68112222 -0.03900667  1.26519111  0.51345778]\n",
      " [-0.03900667  0.18675067 -0.319568   -0.11719467]\n",
      " [ 1.26519111 -0.319568    3.09242489  1.28774489]\n",
      " [ 0.51345778 -0.11719467  1.28774489  0.57853156]]\n"
     ]
    }
   ],
   "source": []
  },
  {
   "cell_type": "markdown",
   "metadata": {},
   "source": [
    "g) A matriz de correlação\n"
   ]
  },
  {
   "cell_type": "code",
   "execution_count": null,
   "metadata": {},
   "outputs": [],
   "source": []
  },
  {
   "cell_type": "markdown",
   "metadata": {},
   "source": [
    "h) As duas componentes principais de maior magnitude dos dados\n"
   ]
  },
  {
   "cell_type": "code",
   "execution_count": null,
   "metadata": {},
   "outputs": [],
   "source": []
  },
  {
   "cell_type": "markdown",
   "metadata": {},
   "source": [
    "i) A projeção dos dados nas duas maiores componentes principais"
   ]
  },
  {
   "cell_type": "code",
   "execution_count": 10,
   "metadata": {},
   "outputs": [
    {
     "name": "stdout",
     "output_type": "stream",
     "text": [
      "12\n"
     ]
    }
   ],
   "source": [
    "a = np.array([1, 2, 3])\n",
    "b = np.array([2, 2, 2])\n",
    "\n",
    "c = np.matmul(a, b.T)\n",
    "print(c)"
   ]
  },
  {
   "cell_type": "code",
   "execution_count": null,
   "metadata": {},
   "outputs": [],
   "source": []
  }
 ],
 "metadata": {
  "kernelspec": {
   "display_name": "Python 3",
   "language": "python",
   "name": "python3"
  },
  "language_info": {
   "codemirror_mode": {
    "name": "ipython",
    "version": 3
   },
   "file_extension": ".py",
   "mimetype": "text/x-python",
   "name": "python",
   "nbconvert_exporter": "python",
   "pygments_lexer": "ipython3",
   "version": "3.6.5"
  }
 },
 "nbformat": 4,
 "nbformat_minor": 2
}
